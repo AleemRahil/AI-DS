{
 "nbformat": 4,
 "nbformat_minor": 0,
 "metadata": {
  "colab": {
   "name": "Artificial Neural Network",
   "provenance": [],
   "collapsed_sections": [],
   "toc_visible": true
  },
  "kernelspec": {
   "name": "python3",
   "display_name": "Python 3"
  }
 },
 "cells": [
  {
   "cell_type": "markdown",
   "metadata": {
    "id": "3cbb7fRy-eyr",
    "colab_type": "text",
    "pycharm": {
     "name": "#%% md\n"
    }
   },
   "source": [
    "# Artificial Neural Network"
   ]
  },
  {
   "cell_type": "markdown",
   "metadata": {
    "id": "8sNDnxE2-pwE",
    "colab_type": "text",
    "pycharm": {
     "name": "#%% md\n"
    }
   },
   "source": [
    "### Importing the libraries"
   ]
  },
  {
   "cell_type": "code",
   "metadata": {
    "id": "lxChR1Rk-umf",
    "colab_type": "code",
    "colab": {},
    "pycharm": {
     "name": "#%%\n"
    }
   },
   "source": [
    "import numpy as np\n",
    "import pandas as pd\n",
    "import tensorflow as tf"
   ],
   "execution_count": 6,
   "outputs": []
  },
  {
   "cell_type": "code",
   "metadata": {
    "id": "uBTqR3nacj0e",
    "colab_type": "code",
    "colab": {
     "base_uri": "https://localhost:8080/",
     "height": 34
    },
    "outputId": "4c0bd183-e424-429a-9fba-ceb841c06888",
    "pycharm": {
     "name": "#%%\n"
    }
   },
   "source": [
    "tf.__version__"
   ],
   "execution_count": 7,
   "outputs": [
    {
     "data": {
      "text/plain": "'2.12.0'"
     },
     "execution_count": 7,
     "metadata": {},
     "output_type": "execute_result"
    }
   ]
  },
  {
   "cell_type": "markdown",
   "metadata": {
    "id": "AG3FQEch-yuA",
    "colab_type": "text",
    "pycharm": {
     "name": "#%% md\n"
    }
   },
   "source": [
    "## Part 1 - Data Preprocessing"
   ]
  },
  {
   "cell_type": "markdown",
   "metadata": {
    "id": "-4zq8Mza_D9O",
    "colab_type": "text",
    "pycharm": {
     "name": "#%% md\n"
    }
   },
   "source": [
    "### Importing the dataset"
   ]
  },
  {
   "cell_type": "code",
   "metadata": {
    "id": "B9CV13Co_HHM",
    "colab_type": "code",
    "colab": {},
    "pycharm": {
     "name": "#%%\n"
    }
   },
   "source": [
    "dataset = pd.read_excel('Folds5x2_pp.xlsx')\n",
    "X = dataset.iloc[:, :-1].values\n",
    "y = dataset.iloc[:, -1].values"
   ],
   "execution_count": 10,
   "outputs": []
  },
  {
   "cell_type": "markdown",
   "metadata": {
    "id": "VC6omXel_Up0",
    "colab_type": "text",
    "pycharm": {
     "name": "#%% md\n"
    }
   },
   "source": [
    "### Splitting the dataset into the Training set and Test set"
   ]
  },
  {
   "cell_type": "code",
   "metadata": {
    "id": "L5edeb2r_agx",
    "colab_type": "code",
    "colab": {},
    "pycharm": {
     "name": "#%%\n"
    }
   },
   "source": [
    "from sklearn.model_selection import train_test_split\n",
    "X_train, X_test, y_train, y_test = train_test_split(X, y, test_size = 0.2, random_state = 0)"
   ],
   "execution_count": 11,
   "outputs": []
  },
  {
   "cell_type": "markdown",
   "metadata": {
    "id": "_mSLlAT9_eyI",
    "colab_type": "text",
    "pycharm": {
     "name": "#%% md\n"
    }
   },
   "source": [
    "## Part 2 - Building the ANN"
   ]
  },
  {
   "cell_type": "markdown",
   "metadata": {
    "id": "CsBULd_f_wLY",
    "colab_type": "text",
    "pycharm": {
     "name": "#%% md\n"
    }
   },
   "source": [
    "### Initializing the ANN"
   ]
  },
  {
   "cell_type": "code",
   "metadata": {
    "id": "J6Hd97Ls__Nz",
    "colab_type": "code",
    "colab": {},
    "pycharm": {
     "name": "#%%\n"
    }
   },
   "source": [
    "ann = tf.keras.models.Sequential()"
   ],
   "execution_count": 12,
   "outputs": []
  },
  {
   "cell_type": "markdown",
   "metadata": {
    "id": "iitAFJS_ABUn",
    "colab_type": "text",
    "pycharm": {
     "name": "#%% md\n"
    }
   },
   "source": [
    "### Adding the input layer and the first hidden layer"
   ]
  },
  {
   "cell_type": "code",
   "metadata": {
    "id": "ksO_Vv40AHix",
    "colab_type": "code",
    "colab": {},
    "pycharm": {
     "name": "#%%\n"
    }
   },
   "source": [
    "ann.add(tf.keras.layers.Dense(units=6, activation='relu'))"
   ],
   "execution_count": 13,
   "outputs": []
  },
  {
   "cell_type": "markdown",
   "metadata": {
    "id": "-lb4kK_wAKbs",
    "colab_type": "text",
    "pycharm": {
     "name": "#%% md\n"
    }
   },
   "source": [
    "### Adding the second hidden layer"
   ]
  },
  {
   "cell_type": "code",
   "metadata": {
    "id": "c2357OqEAQOQ",
    "colab_type": "code",
    "colab": {},
    "pycharm": {
     "name": "#%%\n"
    }
   },
   "source": [
    "ann.add(tf.keras.layers.Dense(units=6, activation='relu'))"
   ],
   "execution_count": 14,
   "outputs": []
  },
  {
   "cell_type": "markdown",
   "metadata": {
    "id": "jwMOmKb3AdBY",
    "colab_type": "text",
    "pycharm": {
     "name": "#%% md\n"
    }
   },
   "source": [
    "### Adding the output layer"
   ]
  },
  {
   "cell_type": "code",
   "metadata": {
    "id": "YFATpzsUAkLL",
    "colab_type": "code",
    "colab": {},
    "pycharm": {
     "name": "#%%\n"
    }
   },
   "source": [
    "ann.add(tf.keras.layers.Dense(units=1))"
   ],
   "execution_count": 15,
   "outputs": []
  },
  {
   "cell_type": "markdown",
   "metadata": {
    "id": "fq7e4fF6A1yy",
    "colab_type": "text",
    "pycharm": {
     "name": "#%% md\n"
    }
   },
   "source": [
    "## Part 3 - Training the ANN"
   ]
  },
  {
   "cell_type": "markdown",
   "metadata": {
    "id": "qDeylAs2An25",
    "colab_type": "text",
    "pycharm": {
     "name": "#%% md\n"
    }
   },
   "source": [
    "### Compiling the ANN"
   ]
  },
  {
   "cell_type": "code",
   "metadata": {
    "id": "pesgbWlCAtB4",
    "colab_type": "code",
    "colab": {},
    "pycharm": {
     "name": "#%%\n"
    }
   },
   "source": [
    "ann.compile(optimizer = 'adam', loss = 'mean_squared_error')"
   ],
   "execution_count": 16,
   "outputs": []
  },
  {
   "cell_type": "markdown",
   "metadata": {
    "id": "YjVuiybYOo7r",
    "colab_type": "text",
    "pycharm": {
     "name": "#%% md\n"
    }
   },
   "source": [
    "### Training the ANN model on the Training set"
   ]
  },
  {
   "cell_type": "code",
   "metadata": {
    "id": "c_vV-tiiA5zn",
    "colab_type": "code",
    "colab": {
     "base_uri": "https://localhost:8080/",
     "height": 1000
    },
    "outputId": "4a2b6ee6-ed75-4698-9069-b250e613803f",
    "pycharm": {
     "name": "#%%\n"
    }
   },
   "source": [
    "ann.fit(X_train, y_train, batch_size = 32, epochs = 100)"
   ],
   "execution_count": 17,
   "outputs": [
    {
     "name": "stdout",
     "output_type": "stream",
     "text": [
      "Epoch 1/100\n",
      "240/240 [==============================] - 1s 583us/step - loss: 228288.2188\n",
      "Epoch 2/100\n",
      "240/240 [==============================] - 0s 584us/step - loss: 59006.2656\n",
      "Epoch 3/100\n",
      "240/240 [==============================] - 0s 579us/step - loss: 263.1493\n",
      "Epoch 4/100\n",
      "240/240 [==============================] - 0s 581us/step - loss: 121.5217\n",
      "Epoch 5/100\n",
      "240/240 [==============================] - 0s 597us/step - loss: 120.4881\n",
      "Epoch 6/100\n",
      "240/240 [==============================] - 0s 577us/step - loss: 119.2807\n",
      "Epoch 7/100\n",
      "240/240 [==============================] - 0s 574us/step - loss: 117.8621\n",
      "Epoch 8/100\n",
      "240/240 [==============================] - 0s 649us/step - loss: 116.1945\n",
      "Epoch 9/100\n",
      "240/240 [==============================] - 0s 580us/step - loss: 114.3666\n",
      "Epoch 10/100\n",
      "240/240 [==============================] - 0s 566us/step - loss: 112.3974\n",
      "Epoch 11/100\n",
      "240/240 [==============================] - 0s 606us/step - loss: 110.2180\n",
      "Epoch 12/100\n",
      "240/240 [==============================] - 0s 574us/step - loss: 107.5949\n",
      "Epoch 13/100\n",
      "240/240 [==============================] - 0s 559us/step - loss: 104.9303\n",
      "Epoch 14/100\n",
      "240/240 [==============================] - 0s 572us/step - loss: 102.0049\n",
      "Epoch 15/100\n",
      "240/240 [==============================] - 0s 570us/step - loss: 98.9508\n",
      "Epoch 16/100\n",
      "240/240 [==============================] - 0s 563us/step - loss: 95.5326\n",
      "Epoch 17/100\n",
      "240/240 [==============================] - 0s 574us/step - loss: 91.8744\n",
      "Epoch 18/100\n",
      "240/240 [==============================] - 0s 563us/step - loss: 88.2187\n",
      "Epoch 19/100\n",
      "240/240 [==============================] - 0s 563us/step - loss: 84.3163\n",
      "Epoch 20/100\n",
      "240/240 [==============================] - 0s 571us/step - loss: 80.4525\n",
      "Epoch 21/100\n",
      "240/240 [==============================] - 0s 551us/step - loss: 76.2286\n",
      "Epoch 22/100\n",
      "240/240 [==============================] - 0s 549us/step - loss: 71.8413\n",
      "Epoch 23/100\n",
      "240/240 [==============================] - 0s 555us/step - loss: 67.6589\n",
      "Epoch 24/100\n",
      "240/240 [==============================] - 0s 646us/step - loss: 63.3835\n",
      "Epoch 25/100\n",
      "240/240 [==============================] - 0s 604us/step - loss: 59.2530\n",
      "Epoch 26/100\n",
      "240/240 [==============================] - 0s 612us/step - loss: 55.3301\n",
      "Epoch 27/100\n",
      "240/240 [==============================] - 0s 549us/step - loss: 51.7905\n",
      "Epoch 28/100\n",
      "240/240 [==============================] - 0s 528us/step - loss: 48.1711\n",
      "Epoch 29/100\n",
      "240/240 [==============================] - 0s 537us/step - loss: 45.2381\n",
      "Epoch 30/100\n",
      "240/240 [==============================] - 0s 549us/step - loss: 42.6856\n",
      "Epoch 31/100\n",
      "240/240 [==============================] - 0s 586us/step - loss: 40.0748\n",
      "Epoch 32/100\n",
      "240/240 [==============================] - 0s 786us/step - loss: 37.8536\n",
      "Epoch 33/100\n",
      "240/240 [==============================] - 0s 656us/step - loss: 36.5372\n",
      "Epoch 34/100\n",
      "240/240 [==============================] - 0s 549us/step - loss: 35.1246\n",
      "Epoch 35/100\n",
      "240/240 [==============================] - 0s 552us/step - loss: 33.9948\n",
      "Epoch 36/100\n",
      "240/240 [==============================] - 0s 561us/step - loss: 33.4293\n",
      "Epoch 37/100\n",
      "240/240 [==============================] - 0s 546us/step - loss: 32.4790\n",
      "Epoch 38/100\n",
      "240/240 [==============================] - 0s 538us/step - loss: 31.6038\n",
      "Epoch 39/100\n",
      "240/240 [==============================] - 0s 540us/step - loss: 31.1650\n",
      "Epoch 40/100\n",
      "240/240 [==============================] - 0s 555us/step - loss: 30.9263\n",
      "Epoch 41/100\n",
      "240/240 [==============================] - 0s 576us/step - loss: 30.7970\n",
      "Epoch 42/100\n",
      "240/240 [==============================] - 0s 565us/step - loss: 29.6343\n",
      "Epoch 43/100\n",
      "240/240 [==============================] - 0s 576us/step - loss: 29.7725\n",
      "Epoch 44/100\n",
      "240/240 [==============================] - 0s 556us/step - loss: 29.2962\n",
      "Epoch 45/100\n",
      "240/240 [==============================] - 0s 539us/step - loss: 28.7464\n",
      "Epoch 46/100\n",
      "240/240 [==============================] - 0s 536us/step - loss: 28.4786\n",
      "Epoch 47/100\n",
      "240/240 [==============================] - 0s 547us/step - loss: 28.6380\n",
      "Epoch 48/100\n",
      "240/240 [==============================] - 0s 548us/step - loss: 28.3234\n",
      "Epoch 49/100\n",
      "240/240 [==============================] - 0s 619us/step - loss: 27.7770\n",
      "Epoch 50/100\n",
      "240/240 [==============================] - 0s 614us/step - loss: 27.4472\n",
      "Epoch 51/100\n",
      "240/240 [==============================] - 0s 574us/step - loss: 27.6045\n",
      "Epoch 52/100\n",
      "240/240 [==============================] - 0s 540us/step - loss: 27.8820\n",
      "Epoch 53/100\n",
      "240/240 [==============================] - 0s 544us/step - loss: 27.5956\n",
      "Epoch 54/100\n",
      "240/240 [==============================] - 0s 542us/step - loss: 27.1844\n",
      "Epoch 55/100\n",
      "240/240 [==============================] - 0s 577us/step - loss: 26.9172\n",
      "Epoch 56/100\n",
      "240/240 [==============================] - 0s 545us/step - loss: 27.3181\n",
      "Epoch 57/100\n",
      "240/240 [==============================] - 0s 570us/step - loss: 27.0308\n",
      "Epoch 58/100\n",
      "240/240 [==============================] - 0s 537us/step - loss: 26.9149\n",
      "Epoch 59/100\n",
      "240/240 [==============================] - 0s 539us/step - loss: 27.5614\n",
      "Epoch 60/100\n",
      "240/240 [==============================] - 0s 518us/step - loss: 27.8015\n",
      "Epoch 61/100\n",
      "240/240 [==============================] - 0s 534us/step - loss: 26.5788\n",
      "Epoch 62/100\n",
      "240/240 [==============================] - 0s 544us/step - loss: 27.2730\n",
      "Epoch 63/100\n",
      "240/240 [==============================] - 0s 537us/step - loss: 26.6939\n",
      "Epoch 64/100\n",
      "240/240 [==============================] - 0s 537us/step - loss: 26.5169\n",
      "Epoch 65/100\n",
      "240/240 [==============================] - 0s 544us/step - loss: 27.1065\n",
      "Epoch 66/100\n",
      "240/240 [==============================] - 0s 545us/step - loss: 27.1393\n",
      "Epoch 67/100\n",
      "240/240 [==============================] - 0s 536us/step - loss: 26.5194\n",
      "Epoch 68/100\n",
      "240/240 [==============================] - 0s 534us/step - loss: 26.6836\n",
      "Epoch 69/100\n",
      "240/240 [==============================] - 0s 542us/step - loss: 26.4789\n",
      "Epoch 70/100\n",
      "240/240 [==============================] - 0s 657us/step - loss: 26.6365\n",
      "Epoch 71/100\n",
      "240/240 [==============================] - 0s 556us/step - loss: 26.6799\n",
      "Epoch 72/100\n",
      "240/240 [==============================] - 0s 560us/step - loss: 26.6143\n",
      "Epoch 73/100\n",
      "240/240 [==============================] - 0s 558us/step - loss: 26.3981\n",
      "Epoch 74/100\n",
      "240/240 [==============================] - 0s 553us/step - loss: 26.5029\n",
      "Epoch 75/100\n",
      "240/240 [==============================] - 0s 556us/step - loss: 27.0944\n",
      "Epoch 76/100\n",
      "240/240 [==============================] - 0s 581us/step - loss: 26.3616\n",
      "Epoch 77/100\n",
      "240/240 [==============================] - 0s 548us/step - loss: 26.3059\n",
      "Epoch 78/100\n",
      "240/240 [==============================] - 0s 560us/step - loss: 26.8568\n",
      "Epoch 79/100\n",
      "240/240 [==============================] - 0s 560us/step - loss: 26.3982\n",
      "Epoch 80/100\n",
      "240/240 [==============================] - 0s 724us/step - loss: 26.6316\n",
      "Epoch 81/100\n",
      "240/240 [==============================] - 0s 741us/step - loss: 26.4597\n",
      "Epoch 82/100\n",
      "240/240 [==============================] - 0s 588us/step - loss: 26.7168\n",
      "Epoch 83/100\n",
      "240/240 [==============================] - 0s 566us/step - loss: 26.6137\n",
      "Epoch 84/100\n",
      "240/240 [==============================] - 0s 559us/step - loss: 26.3048\n",
      "Epoch 85/100\n",
      "240/240 [==============================] - 0s 553us/step - loss: 26.3503\n",
      "Epoch 86/100\n",
      "240/240 [==============================] - 0s 554us/step - loss: 26.5159\n",
      "Epoch 87/100\n",
      "240/240 [==============================] - 0s 571us/step - loss: 27.0816\n",
      "Epoch 88/100\n",
      "240/240 [==============================] - 0s 557us/step - loss: 26.2224\n",
      "Epoch 89/100\n",
      "240/240 [==============================] - 0s 559us/step - loss: 26.2008\n",
      "Epoch 90/100\n",
      "240/240 [==============================] - 0s 562us/step - loss: 26.4866\n",
      "Epoch 91/100\n",
      "240/240 [==============================] - 0s 574us/step - loss: 26.4393\n",
      "Epoch 92/100\n",
      "240/240 [==============================] - 0s 563us/step - loss: 26.6127\n",
      "Epoch 93/100\n",
      "240/240 [==============================] - 0s 544us/step - loss: 26.8360\n",
      "Epoch 94/100\n",
      "240/240 [==============================] - 0s 546us/step - loss: 26.6837\n",
      "Epoch 95/100\n",
      "240/240 [==============================] - 0s 562us/step - loss: 26.4198\n",
      "Epoch 96/100\n",
      "240/240 [==============================] - 0s 537us/step - loss: 26.5829\n",
      "Epoch 97/100\n",
      "240/240 [==============================] - 0s 571us/step - loss: 26.3488\n",
      "Epoch 98/100\n",
      "240/240 [==============================] - 0s 564us/step - loss: 26.2142\n",
      "Epoch 99/100\n",
      "240/240 [==============================] - 0s 582us/step - loss: 26.5998\n",
      "Epoch 100/100\n",
      "240/240 [==============================] - 0s 559us/step - loss: 26.7107\n"
     ]
    },
    {
     "data": {
      "text/plain": "<keras.callbacks.History at 0x187b0ee45b0>"
     },
     "execution_count": 17,
     "metadata": {},
     "output_type": "execute_result"
    }
   ]
  },
  {
   "cell_type": "markdown",
   "metadata": {
    "id": "0H0zKKNEBLD5",
    "colab_type": "text",
    "pycharm": {
     "name": "#%% md\n"
    }
   },
   "source": [
    "### Predicting the results of the Test set"
   ]
  },
  {
   "cell_type": "code",
   "metadata": {
    "id": "IA0yApEmBG1X",
    "colab_type": "code",
    "colab": {
     "base_uri": "https://localhost:8080/",
     "height": 134
    },
    "outputId": "cb981e1f-9204-4a2a-fece-9d66a6919189",
    "pycharm": {
     "name": "#%%\n"
    }
   },
   "source": [
    "y_pred = ann.predict(X_test)\n",
    "df_outcome = pd.DataFrame({'predicted': y_pred.flatten(), 'actual':y_test.flatten()})\n",
    "df_outcome"
   ],
   "execution_count": 18,
   "outputs": [
    {
     "name": "stdout",
     "output_type": "stream",
     "text": [
      "60/60 [==============================] - 0s 472us/step\n"
     ]
    },
    {
     "data": {
      "text/plain": "       predicted  actual\n0     432.136169  431.23\n1     463.292664  460.01\n2     466.823730  461.14\n3     449.867920  445.90\n4     461.083527  451.29\n...          ...     ...\n1909  460.957794  460.29\n1910  458.357117  452.42\n1911  474.043213  473.26\n1912  440.797363  438.00\n1913  460.043488  463.28\n\n[1914 rows x 2 columns]",
      "text/html": "<div>\n<style scoped>\n    .dataframe tbody tr th:only-of-type {\n        vertical-align: middle;\n    }\n\n    .dataframe tbody tr th {\n        vertical-align: top;\n    }\n\n    .dataframe thead th {\n        text-align: right;\n    }\n</style>\n<table border=\"1\" class=\"dataframe\">\n  <thead>\n    <tr style=\"text-align: right;\">\n      <th></th>\n      <th>predicted</th>\n      <th>actual</th>\n    </tr>\n  </thead>\n  <tbody>\n    <tr>\n      <th>0</th>\n      <td>432.136169</td>\n      <td>431.23</td>\n    </tr>\n    <tr>\n      <th>1</th>\n      <td>463.292664</td>\n      <td>460.01</td>\n    </tr>\n    <tr>\n      <th>2</th>\n      <td>466.823730</td>\n      <td>461.14</td>\n    </tr>\n    <tr>\n      <th>3</th>\n      <td>449.867920</td>\n      <td>445.90</td>\n    </tr>\n    <tr>\n      <th>4</th>\n      <td>461.083527</td>\n      <td>451.29</td>\n    </tr>\n    <tr>\n      <th>...</th>\n      <td>...</td>\n      <td>...</td>\n    </tr>\n    <tr>\n      <th>1909</th>\n      <td>460.957794</td>\n      <td>460.29</td>\n    </tr>\n    <tr>\n      <th>1910</th>\n      <td>458.357117</td>\n      <td>452.42</td>\n    </tr>\n    <tr>\n      <th>1911</th>\n      <td>474.043213</td>\n      <td>473.26</td>\n    </tr>\n    <tr>\n      <th>1912</th>\n      <td>440.797363</td>\n      <td>438.00</td>\n    </tr>\n    <tr>\n      <th>1913</th>\n      <td>460.043488</td>\n      <td>463.28</td>\n    </tr>\n  </tbody>\n</table>\n<p>1914 rows × 2 columns</p>\n</div>"
     },
     "execution_count": 18,
     "metadata": {},
     "output_type": "execute_result"
    }
   ]
  },
  {
   "cell_type": "code",
   "execution_count": null,
   "outputs": [],
   "source": [],
   "metadata": {
    "collapsed": false,
    "pycharm": {
     "name": "#%%\n"
    }
   }
  }
 ]
}